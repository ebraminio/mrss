{
 "cells": [
  {
   "cell_type": "code",
   "execution_count": 1,
   "metadata": {},
   "outputs": [],
   "source": [
    "import bs4\n",
    "import requests\n",
    "from urllib.parse import unquote\n",
    "from tqdm import tqdm\n",
    "import time\n",
    "from datetime import datetime, timezone\n",
    "from feedgen.feed import FeedGenerator"
   ]
  },
  {
   "cell_type": "code",
   "execution_count": 2,
   "metadata": {},
   "outputs": [],
   "source": [
    "course_page_request = requests.get('https://maktabkhooneh.org/course/%D8%A2%D8%B4%D9%86%D8%A7%DB%8C%DB%8C-%D8%A8%D8%A7-%D8%B1%DB%8C%D8%A7%D8%B6%DB%8C%D8%A7%D8%AA-mk99/')\n",
    "course = bs4.BeautifulSoup(course_page_request.text, 'html.parser')"
   ]
  },
  {
   "cell_type": "code",
   "execution_count": 3,
   "metadata": {},
   "outputs": [],
   "source": [
    "course_title = course.select_one('h1').text\n",
    "course_description = course.select_one('.course-description').text"
   ]
  },
  {
   "cell_type": "code",
   "execution_count": 4,
   "metadata": {},
   "outputs": [],
   "source": [
    "date_format = '%a, %d %b %Y %H:%M:%S %z'\n",
    "pub_date = datetime.now().strftime(date_format)"
   ]
  },
  {
   "cell_type": "code",
   "execution_count": 5,
   "metadata": {},
   "outputs": [
    {
     "data": {
      "text/plain": [
       "'fa'"
      ]
     },
     "execution_count": 5,
     "metadata": {},
     "output_type": "execute_result"
    }
   ],
   "source": [
    "fg = FeedGenerator()\n",
    "fg.id(course.select_one('meta[property=\"og:url\"]')['content'])\n",
    "fg.title(course.select_one('meta[property=\"og:title\"]')['content'])\n",
    "fg.description(str(course.select_one('.course-description')))\n",
    "fg.link(href=course.select_one('meta[property=\"og:url\"]')['content'], rel='alternate')\n",
    "fg.logo(course.select_one('meta[property=\"og:image\"]')['content'])\n",
    "#fg.link(href='https://publiclink/test.atom', rel='self')\n",
    "fg.language('fa')"
   ]
  },
  {
   "cell_type": "code",
   "execution_count": 6,
   "metadata": {},
   "outputs": [],
   "source": [
    "i = 0\n",
    "\n",
    "for chapter_link_element in course.select('a.chapter__unit'):\n",
    "    chapter_link = chapter_link_element['href']\n",
    "    r = requests.get('https://maktabkhooneh.org' + chapter_link)\n",
    "    chapter = bs4.BeautifulSoup(r.content, 'html.parser')\n",
    "    \n",
    "    video_link = chapter.select_one('meta[property=\"og:video\"]')['content'] # .replace('/videos/', '/videos/hq')\n",
    "    video = requests.head(video_link)\n",
    "    \n",
    "    fe = fg.add_entry()\n",
    "    fe.id('https://maktabkhooneh.org' + chapter_link)\n",
    "    fe.title(chapter_link_element.select_one('.chapter__unit-title').text.strip())\n",
    "    fe.description(chapter_link_element.select_one('.chapter__unit-title').text.strip())\n",
    "    fe.enclosure(video_link, video.headers['Content-Length'], 'video/mp4')\n",
    "\n",
    "    #fe.pubDate(video.headers['Last-Modified'])\n",
    "    \n",
    "    i += 1\n",
    "    datetime_str = f'01/{str(i).zfill(2)}/20 00:00:00'\n",
    "    datetime_object = datetime.strptime(datetime_str, '%m/%d/%y %H:%M:%S')\n",
    "    datetime_object = datetime_object.replace(tzinfo=timezone.utc)\n",
    "    fe.pubDate(datetime_object.strftime(date_format))"
   ]
  },
  {
   "cell_type": "code",
   "execution_count": 8,
   "metadata": {},
   "outputs": [
    {
     "name": "stdout",
     "output_type": "stream",
     "text": [
      "<?xml version='1.0' encoding='UTF-8'?>\n",
      "<rss xmlns:atom=\"http://www.w3.org/2005/Atom\" xmlns:content=\"http://purl.org/rss/1.0/modules/content/\" version=\"2.0\">\n",
      "  <channel>\n",
      "    <title>درس آشنایی با ریاضیات - مکتب خونه</title>\n",
      "    <link>https://maktabkhooneh.org/course/آشنایی-با-ریاضیات-mk99/</link>\n",
      "    <description>&lt;div class=\"course-description rich-text\"&gt;\n",
      "            در این با اصول ریاضیات و تاریخچه ی ریاضی آشنا میشویم . در هر جلسه از درس, استاد به معرفی هر یک از قسمت های علم ریاضی می پردازد و مقدمه ای بیان می کند. این درس به دوستان علاقه مند به ریاضیات پیشنهاد می شود. \n",
      "            \n",
      "        &lt;/div&gt;</description>\n",
      "    <docs>http://www.rssboard.org/rss-specification</docs>\n",
      "    <generator>python-feedgen</generator>\n",
      "    <image>\n",
      "      <url>https://maktabkhooneh.org/media/courses/images/alishahi521385810120.png</url>\n",
      "      <title>درس آشنایی با ریاضیات - مکتب خونه</title>\n",
      "      <link>https://maktabkhooneh.org/course/آشنایی-با-ریاضیات-mk99/</link>\n",
      "    </image>\n",
      "    <language>fa</language>\n",
      "    <lastBuildDate>Sat, 02 May 2020 19:45:31 +0000</lastBuildDate>\n",
      "    <item>\n",
      "      <title>جلسه پانزدهم - تاریخچه ای از ریاضیات و برخی از ریاضیدانان</title>\n",
      "      <description>جلسه پانزدهم - تاریخچه ای از ریاضیات و برخی از ریاضیدانان</description>\n",
      "      <guid isPermaLink=\"false\">https://maktabkhooneh.org/course/%D8%A2%D8%B4%D9%86%D8%A7%DB%8C%DB%8C-%D8%A8%D8%A7-%D8%B1%DB%8C%D8%A7%D8%B6%DB%8C%D8%A7%D8%AA-mk99/%D9%81%DB%8C%D9%84%D9%85-%D8%A2%D9%85%D9%88%D8%B2%D8%B4%DB%8C-ch141/%D9%88%DB%8C%D8%AF%DB%8C%D9%88-%D8%AC%D9%84%D8%B3%D9%87-%D9%BE%D8%A7%D9%86%D8%B2%D8%AF%D9%87%D9%85-%D8%AA%D8%A7%D8%B1%DB%8C%D8%AE%DA%86%D9%87-%D8%B1%DB%8C%D8%A7%D8%B6%DB%8C%D8%A7%D8%AA-%D8%A8%D8%B1%D8%AE%DB%8C-%D8%B1%DB%8C%D8%A7%D8%B6%DB%8C%D8%AF%D8%A7%D9%86%D8%A7%D9%86/</guid>\n",
      "      <enclosure url=\"https://cdn.maktabkhooneh.org/videos/919700723259.mp4\" length=\"62040406\" type=\"video/mp4\"/>\n",
      "      <pubDate>Wed, 15 Jan 2020 00:00:00 +0000</pubDate>\n",
      "    </item>\n",
      "    <item>\n",
      "      <title>جلسه چهاردهم - منطق ریاضی - مدل کردن نحوه تفکر</title>\n",
      "      <description>جلسه چهاردهم - منطق ریاضی - مدل کردن نحوه تفکر</description>\n",
      "      <guid isPermaLink=\"false\">https://maktabkhooneh.org/course/%D8%A2%D8%B4%D9%86%D8%A7%DB%8C%DB%8C-%D8%A8%D8%A7-%D8%B1%DB%8C%D8%A7%D8%B6%DB%8C%D8%A7%D8%AA-mk99/%D9%81%DB%8C%D9%84%D9%85-%D8%A2%D9%85%D9%88%D8%B2%D8%B4%DB%8C-ch141/%D9%88%DB%8C%D8%AF%DB%8C%D9%88-%D8%AC%D9%84%D8%B3%D9%87-%DA%86%D9%87%D8%A7%D8%B1%D8%AF%D9%87%D9%85-%D9%85%D9%86%D8%B7%D9%82-%D8%B1%DB%8C%D8%A7%D8%B6%DB%8C-%D9%85%D8%AF%D9%84-%DA%A9%D8%B1%D8%AF%D9%86-%D9%86%D8%AD%D9%88%D9%87-%D8%AA%D9%81%DA%A9%D8%B1/</guid>\n",
      "      <enclosure url=\"https://cdn.maktabkhooneh.org/videos/35494291314.mp4\" length=\"47141355\" type=\"video/mp4\"/>\n",
      "      <pubDate>Tue, 14 Jan 2020 00:00:00 +0000</pubDate>\n",
      "    </item>\n",
      "    <item>\n",
      "      <title>جلسه سیزدهم - قضیه متداول احتمال</title>\n",
      "      <description>جلسه سیزدهم - قضیه متداول احتمال</description>\n",
      "      <guid isPermaLink=\"false\">https://maktabkhooneh.org/course/%D8%A2%D8%B4%D9%86%D8%A7%DB%8C%DB%8C-%D8%A8%D8%A7-%D8%B1%DB%8C%D8%A7%D8%B6%DB%8C%D8%A7%D8%AA-mk99/%D9%81%DB%8C%D9%84%D9%85-%D8%A2%D9%85%D9%88%D8%B2%D8%B4%DB%8C-ch141/%D9%88%DB%8C%D8%AF%DB%8C%D9%88-%D8%AC%D9%84%D8%B3%D9%87-%D8%B3%DB%8C%D8%B2%D8%AF%D9%87%D9%85-%D9%82%D8%B6%DB%8C%D9%87-%D9%85%D8%AA%D8%AF%D8%A7%D9%88%D9%84-%D8%A7%D8%AD%D8%AA%D9%85%D8%A7%D9%84/</guid>\n",
      "      <enclosure url=\"https://cdn.maktabkhooneh.org/videos/629465901544.mp4\" length=\"53849472\" type=\"video/mp4\"/>\n",
      "      <pubDate>Mon, 13 Jan 2020 00:00:00 +0000</pubDate>\n",
      "    </item>\n",
      "    <item>\n",
      "      <title>جلسه دوازدهم - توابع مولد</title>\n",
      "      <description>جلسه دوازدهم - توابع مولد</description>\n",
      "      <guid isPermaLink=\"false\">https://maktabkhooneh.org/course/%D8%A2%D8%B4%D9%86%D8%A7%DB%8C%DB%8C-%D8%A8%D8%A7-%D8%B1%DB%8C%D8%A7%D8%B6%DB%8C%D8%A7%D8%AA-mk99/%D9%81%DB%8C%D9%84%D9%85-%D8%A2%D9%85%D9%88%D8%B2%D8%B4%DB%8C-ch141/%D9%88%DB%8C%D8%AF%DB%8C%D9%88-%D8%AC%D9%84%D8%B3%D9%87-%D8%AF%D9%88%D8%A7%D8%B2%D8%AF%D9%87%D9%85-%D8%AA%D9%88%D8%A7%D8%A8%D8%B9-%D9%85%D9%88%D9%84%D8%AF/</guid>\n",
      "      <enclosure url=\"https://cdn.maktabkhooneh.org/videos/264387228646.mp4\" length=\"39903755\" type=\"video/mp4\"/>\n",
      "      <pubDate>Sun, 12 Jan 2020 00:00:00 +0000</pubDate>\n",
      "    </item>\n",
      "    <item>\n",
      "      <title>جلسه یازدهم - اثبات مقدماتی قضایای پاپوس و پاسکال</title>\n",
      "      <description>جلسه یازدهم - اثبات مقدماتی قضایای پاپوس و پاسکال</description>\n",
      "      <guid isPermaLink=\"false\">https://maktabkhooneh.org/course/%D8%A2%D8%B4%D9%86%D8%A7%DB%8C%DB%8C-%D8%A8%D8%A7-%D8%B1%DB%8C%D8%A7%D8%B6%DB%8C%D8%A7%D8%AA-mk99/%D9%81%DB%8C%D9%84%D9%85-%D8%A2%D9%85%D9%88%D8%B2%D8%B4%DB%8C-ch141/%D9%88%DB%8C%D8%AF%DB%8C%D9%88-%D8%AC%D9%84%D8%B3%D9%87-%DB%8C%D8%A7%D8%B2%D8%AF%D9%87%D9%85-%D8%A7%D8%AB%D8%A8%D8%A7%D8%AA-%D9%85%D9%82%D8%AF%D9%85%D8%A7%D8%AA%DB%8C-%D9%82%D8%B6%D8%A7%DB%8C%D8%A7%DB%8C-%D9%BE%D8%A7%D9%BE%D9%88%D8%B3-%D9%BE%D8%A7%D8%B3%DA%A9%D8%A7/</guid>\n",
      "      <enclosure url=\"https://cdn.maktabkhooneh.org/videos/735319223784.mp4\" length=\"58880451\" type=\"video/mp4\"/>\n",
      "      <pubDate>Sat, 11 Jan 2020 00:00:00 +0000</pubDate>\n",
      "    </item>\n",
      "    <item>\n",
      "      <title>جلسه دهم - ترکیبیات و ریاضیات گسسته</title>\n",
      "      <description>جلسه دهم - ترکیبیات و ریاضیات گسسته</description>\n",
      "      <guid isPermaLink=\"false\">https://maktabkhooneh.org/course/%D8%A2%D8%B4%D9%86%D8%A7%DB%8C%DB%8C-%D8%A8%D8%A7-%D8%B1%DB%8C%D8%A7%D8%B6%DB%8C%D8%A7%D8%AA-mk99/%D9%81%DB%8C%D9%84%D9%85-%D8%A2%D9%85%D9%88%D8%B2%D8%B4%DB%8C-ch141/%D9%88%DB%8C%D8%AF%DB%8C%D9%88-%D8%AC%D9%84%D8%B3%D9%87-%D8%AF%D9%87%D9%85-%D8%AA%D8%B1%DA%A9%DB%8C%D8%A8%DB%8C%D8%A7%D8%AA-%D8%B1%DB%8C%D8%A7%D8%B6%DB%8C%D8%A7%D8%AA-%DA%AF%D8%B3%D8%B3%D8%AA%D9%87/</guid>\n",
      "      <enclosure url=\"https://cdn.maktabkhooneh.org/videos/216273529692.mp4\" length=\"47104291\" type=\"video/mp4\"/>\n",
      "      <pubDate>Fri, 10 Jan 2020 00:00:00 +0000</pubDate>\n",
      "    </item>\n",
      "    <item>\n",
      "      <title>جلسه نهم - قضیه مقدار میانی و پیوستگی</title>\n",
      "      <description>جلسه نهم - قضیه مقدار میانی و پیوستگی</description>\n",
      "      <guid isPermaLink=\"false\">https://maktabkhooneh.org/course/%D8%A2%D8%B4%D9%86%D8%A7%DB%8C%DB%8C-%D8%A8%D8%A7-%D8%B1%DB%8C%D8%A7%D8%B6%DB%8C%D8%A7%D8%AA-mk99/%D9%81%DB%8C%D9%84%D9%85-%D8%A2%D9%85%D9%88%D8%B2%D8%B4%DB%8C-ch141/%D9%88%DB%8C%D8%AF%DB%8C%D9%88-%D8%AC%D9%84%D8%B3%D9%87-%D9%86%D9%87%D9%85-%D9%82%D8%B6%DB%8C%D9%87-%D9%85%D9%82%D8%AF%D8%A7%D8%B1-%D9%85%DB%8C%D8%A7%D9%86%DB%8C-%D9%BE%DB%8C%D9%88%D8%B3%D8%AA%DA%AF%DB%8C/</guid>\n",
      "      <enclosure url=\"https://cdn.maktabkhooneh.org/videos/751479946837.mp4\" length=\"64559689\" type=\"video/mp4\"/>\n",
      "      <pubDate>Thu, 09 Jan 2020 00:00:00 +0000</pubDate>\n",
      "    </item>\n",
      "    <item>\n",
      "      <title>جلسه هشتم - حل معادلات درجه n</title>\n",
      "      <description>جلسه هشتم - حل معادلات درجه n</description>\n",
      "      <guid isPermaLink=\"false\">https://maktabkhooneh.org/course/%D8%A2%D8%B4%D9%86%D8%A7%DB%8C%DB%8C-%D8%A8%D8%A7-%D8%B1%DB%8C%D8%A7%D8%B6%DB%8C%D8%A7%D8%AA-mk99/%D9%81%DB%8C%D9%84%D9%85-%D8%A2%D9%85%D9%88%D8%B2%D8%B4%DB%8C-ch141/%D9%88%DB%8C%D8%AF%DB%8C%D9%88-%D8%AC%D9%84%D8%B3%D9%87-%D9%87%D8%B4%D8%AA%D9%85-%D8%AD%D9%84-%D9%85%D8%B9%D8%A7%D8%AF%D9%84%D8%A7%D8%AA-%D8%AF%D8%B1%D8%AC%D9%87-n/</guid>\n",
      "      <enclosure url=\"https://cdn.maktabkhooneh.org/videos/299455290446.mp4\" length=\"51638914\" type=\"video/mp4\"/>\n",
      "      <pubDate>Wed, 08 Jan 2020 00:00:00 +0000</pubDate>\n",
      "    </item>\n",
      "    <item>\n",
      "      <title>جلسه هفتم - حل معادلات درجه n</title>\n",
      "      <description>جلسه هفتم - حل معادلات درجه n</description>\n",
      "      <guid isPermaLink=\"false\">https://maktabkhooneh.org/course/%D8%A2%D8%B4%D9%86%D8%A7%DB%8C%DB%8C-%D8%A8%D8%A7-%D8%B1%DB%8C%D8%A7%D8%B6%DB%8C%D8%A7%D8%AA-mk99/%D9%81%DB%8C%D9%84%D9%85-%D8%A2%D9%85%D9%88%D8%B2%D8%B4%DB%8C-ch141/%D9%88%DB%8C%D8%AF%DB%8C%D9%88-%D8%AC%D9%84%D8%B3%D9%87-%D9%87%D9%81%D8%AA%D9%85-%D8%AD%D9%84-%D9%85%D8%B9%D8%A7%D8%AF%D9%84%D8%A7%D8%AA-%D8%AF%D8%B1%D8%AC%D9%87-n/</guid>\n",
      "      <enclosure url=\"https://cdn.maktabkhooneh.org/videos/92114440401.mp4\" length=\"47659733\" type=\"video/mp4\"/>\n",
      "      <pubDate>Tue, 07 Jan 2020 00:00:00 +0000</pubDate>\n",
      "    </item>\n",
      "    <item>\n",
      "      <title>جلسه ششم - هندسه چیست؟</title>\n",
      "      <description>جلسه ششم - هندسه چیست؟</description>\n",
      "      <guid isPermaLink=\"false\">https://maktabkhooneh.org/course/%D8%A2%D8%B4%D9%86%D8%A7%DB%8C%DB%8C-%D8%A8%D8%A7-%D8%B1%DB%8C%D8%A7%D8%B6%DB%8C%D8%A7%D8%AA-mk99/%D9%81%DB%8C%D9%84%D9%85-%D8%A2%D9%85%D9%88%D8%B2%D8%B4%DB%8C-ch141/%D9%88%DB%8C%D8%AF%DB%8C%D9%88-%D8%AC%D9%84%D8%B3%D9%87-%D8%B4%D8%B4%D9%85-%D9%87%D9%86%D8%AF%D8%B3%D9%87-%DA%86%DB%8C%D8%B3%D8%AA/</guid>\n",
      "      <enclosure url=\"https://cdn.maktabkhooneh.org/videos/115083746436.mp4\" length=\"50730229\" type=\"video/mp4\"/>\n",
      "      <pubDate>Mon, 06 Jan 2020 00:00:00 +0000</pubDate>\n",
      "    </item>\n",
      "    <item>\n",
      "      <title>جلسه پنجم - مجموعه های شمارا و ناشمارا</title>\n",
      "      <description>جلسه پنجم - مجموعه های شمارا و ناشمارا</description>\n",
      "      <guid isPermaLink=\"false\">https://maktabkhooneh.org/course/%D8%A2%D8%B4%D9%86%D8%A7%DB%8C%DB%8C-%D8%A8%D8%A7-%D8%B1%DB%8C%D8%A7%D8%B6%DB%8C%D8%A7%D8%AA-mk99/%D9%81%DB%8C%D9%84%D9%85-%D8%A2%D9%85%D9%88%D8%B2%D8%B4%DB%8C-ch141/%D9%88%DB%8C%D8%AF%DB%8C%D9%88-%D8%AC%D9%84%D8%B3%D9%87-%D9%BE%D9%86%D8%AC%D9%85-%D9%85%D8%AC%D9%85%D9%88%D8%B9%D9%87-%D8%B4%D9%85%D8%A7%D8%B1%D8%A7-%D9%86%D8%A7%D8%B4%D9%85%D8%A7%D8%B1%D8%A7/</guid>\n",
      "      <enclosure url=\"https://cdn.maktabkhooneh.org/videos/556069209329.mp4\" length=\"55373407\" type=\"video/mp4\"/>\n",
      "      <pubDate>Sun, 05 Jan 2020 00:00:00 +0000</pubDate>\n",
      "    </item>\n",
      "    <item>\n",
      "      <title>جلسه چهارم - مفهوم اعداد گویا و گنگ و اعداد جبری</title>\n",
      "      <description>جلسه چهارم - مفهوم اعداد گویا و گنگ و اعداد جبری</description>\n",
      "      <guid isPermaLink=\"false\">https://maktabkhooneh.org/course/%D8%A2%D8%B4%D9%86%D8%A7%DB%8C%DB%8C-%D8%A8%D8%A7-%D8%B1%DB%8C%D8%A7%D8%B6%DB%8C%D8%A7%D8%AA-mk99/%D9%81%DB%8C%D9%84%D9%85-%D8%A2%D9%85%D9%88%D8%B2%D8%B4%DB%8C-ch141/%D9%88%DB%8C%D8%AF%DB%8C%D9%88-%D8%AC%D9%84%D8%B3%D9%87-%DA%86%D9%87%D8%A7%D8%B1%D9%85-%D9%85%D9%81%D9%87%D9%88%D9%85-%D8%A7%D8%B9%D8%AF%D8%A7%D8%AF-%DA%AF%D9%88%DB%8C%D8%A7-%DA%AF%D9%86%DA%AF-%D8%A7%D8%B9%D8%AF%D8%A7%D8%AF-%D8%AC%D8%A8%D8%B1%DB%8C/</guid>\n",
      "      <enclosure url=\"https://cdn.maktabkhooneh.org/videos/436249693297.mp4\" length=\"49147541\" type=\"video/mp4\"/>\n",
      "      <pubDate>Sat, 04 Jan 2020 00:00:00 +0000</pubDate>\n",
      "    </item>\n",
      "    <item>\n",
      "      <title>جلسه سوم - اعداد اول</title>\n",
      "      <description>جلسه سوم - اعداد اول</description>\n",
      "      <guid isPermaLink=\"false\">https://maktabkhooneh.org/course/%D8%A2%D8%B4%D9%86%D8%A7%DB%8C%DB%8C-%D8%A8%D8%A7-%D8%B1%DB%8C%D8%A7%D8%B6%DB%8C%D8%A7%D8%AA-mk99/%D9%81%DB%8C%D9%84%D9%85-%D8%A2%D9%85%D9%88%D8%B2%D8%B4%DB%8C-ch141/%D9%88%DB%8C%D8%AF%DB%8C%D9%88-%D8%AC%D9%84%D8%B3%D9%87-%D8%B3%D9%88%D9%85-%D8%A7%D8%B9%D8%AF%D8%A7%D8%AF-%D8%A7%D9%88%D9%84/</guid>\n",
      "      <enclosure url=\"https://cdn.maktabkhooneh.org/videos/796361935386.mp4\" length=\"53456263\" type=\"video/mp4\"/>\n",
      "      <pubDate>Fri, 03 Jan 2020 00:00:00 +0000</pubDate>\n",
      "    </item>\n",
      "    <item>\n",
      "      <title>جلسه دوم - اعداد اول</title>\n",
      "      <description>جلسه دوم - اعداد اول</description>\n",
      "      <guid isPermaLink=\"false\">https://maktabkhooneh.org/course/%D8%A2%D8%B4%D9%86%D8%A7%DB%8C%DB%8C-%D8%A8%D8%A7-%D8%B1%DB%8C%D8%A7%D8%B6%DB%8C%D8%A7%D8%AA-mk99/%D9%81%DB%8C%D9%84%D9%85-%D8%A2%D9%85%D9%88%D8%B2%D8%B4%DB%8C-ch141/%D9%88%DB%8C%D8%AF%DB%8C%D9%88-%D8%AC%D9%84%D8%B3%D9%87-%D8%AF%D9%88%D9%85-%D8%A7%D8%B9%D8%AF%D8%A7%D8%AF-%D8%A7%D9%88%D9%84/</guid>\n",
      "      <enclosure url=\"https://cdn.maktabkhooneh.org/videos/559809662423.mp4\" length=\"49519231\" type=\"video/mp4\"/>\n",
      "      <pubDate>Thu, 02 Jan 2020 00:00:00 +0000</pubDate>\n",
      "    </item>\n",
      "    <item>\n",
      "      <title>جلسه اول - تاریخچه ریاضی</title>\n",
      "      <description>جلسه اول - تاریخچه ریاضی</description>\n",
      "      <guid isPermaLink=\"false\">https://maktabkhooneh.org/course/%D8%A2%D8%B4%D9%86%D8%A7%DB%8C%DB%8C-%D8%A8%D8%A7-%D8%B1%DB%8C%D8%A7%D8%B6%DB%8C%D8%A7%D8%AA-mk99/%D9%81%DB%8C%D9%84%D9%85-%D8%A2%D9%85%D9%88%D8%B2%D8%B4%DB%8C-ch141/%D9%88%DB%8C%D8%AF%DB%8C%D9%88-%D8%AC%D9%84%D8%B3%D9%87-%D8%A7%D9%88%D9%84-%D8%AA%D8%A7%D8%B1%DB%8C%D8%AE%DA%86%D9%87-%D8%B1%DB%8C%D8%A7%D8%B6%DB%8C/</guid>\n",
      "      <enclosure url=\"https://cdn.maktabkhooneh.org/videos/175919577112.mp4\" length=\"45526445\" type=\"video/mp4\"/>\n",
      "      <pubDate>Wed, 01 Jan 2020 00:00:00 +0000</pubDate>\n",
      "    </item>\n",
      "  </channel>\n",
      "</rss>\n",
      "\n"
     ]
    }
   ],
   "source": [
    "print(fg.rss_str(pretty=True).decode())"
   ]
  }
 ],
 "metadata": {
  "kernelspec": {
   "display_name": "Python 3",
   "language": "python",
   "name": "python3"
  },
  "language_info": {
   "codemirror_mode": {
    "name": "ipython",
    "version": 3
   },
   "file_extension": ".py",
   "mimetype": "text/x-python",
   "name": "python",
   "nbconvert_exporter": "python",
   "pygments_lexer": "ipython3",
   "version": "3.8.2"
  }
 },
 "nbformat": 4,
 "nbformat_minor": 2
}
